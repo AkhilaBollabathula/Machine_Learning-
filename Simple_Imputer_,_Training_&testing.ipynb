{
  "nbformat": 4,
  "nbformat_minor": 0,
  "metadata": {
    "colab": {
      "private_outputs": true,
      "provenance": []
    },
    "kernelspec": {
      "name": "python3",
      "display_name": "Python 3"
    },
    "language_info": {
      "name": "python"
    }
  },
  "cells": [
    {
      "cell_type": "code",
      "execution_count": null,
      "metadata": {
        "id": "1f2id0wHlU2Z"
      },
      "outputs": [],
      "source": [
        "import pandas as pd\n",
        "import numpy as np\n",
        "data={\"one\":pd.Series([1,2,3],index=['a','b','e']),\n",
        "      \"two\":pd.Series([2,3,4,6],index=['a','b','c','d'])}\n",
        "table=pd.DataFrame(data)\n",
        "print(table)"
      ]
    },
    {
      "cell_type": "code",
      "source": [
        "from sklearn.impute import SimpleImputer"
      ],
      "metadata": {
        "id": "urKJ5RFDrr9O"
      },
      "execution_count": null,
      "outputs": []
    },
    {
      "cell_type": "code",
      "source": [
        "imputer=SimpleImputer(missing_values=np.nan,strategy=\"mean\")\n",
        "imputer.fit(table)"
      ],
      "metadata": {
        "id": "_5L2s1rGsOnZ"
      },
      "execution_count": null,
      "outputs": []
    },
    {
      "cell_type": "code",
      "source": [
        "imputed_data=imputer.transform(table.values)\n",
        "print(pd.DataFrame(imputed_data,columns=['one','two']))"
      ],
      "metadata": {
        "id": "9Fn1tFpFshjp"
      },
      "execution_count": null,
      "outputs": []
    },
    {
      "cell_type": "code",
      "source": [
        "import pandas as pd\n",
        "df={'Studente_id':pd.Series([1,2,3,4,5]),'Students_Name':pd.Series(['venu','mouni','mouni','srinu','priya']),\n",
        "    'Fee':pd.Series(['20k','30k','25k','15k','27k'])}\n",
        "df1=pd.DataFrame(df)\n",
        "print(df1)\n"
      ],
      "metadata": {
        "id": "TJEv3ny0swoR"
      },
      "execution_count": null,
      "outputs": []
    },
    {
      "cell_type": "code",
      "source": [
        "df2=pd.get_dummies(df1)\n",
        "print(df2)"
      ],
      "metadata": {
        "id": "b-jnkOWfuZIi"
      },
      "execution_count": null,
      "outputs": []
    },
    {
      "cell_type": "code",
      "source": [
        "print(df1)"
      ],
      "metadata": {
        "id": "UJrVBmpRv8z4"
      },
      "execution_count": null,
      "outputs": []
    },
    {
      "cell_type": "code",
      "source": [
        "from sklearn.preprocessing import LabelEncoder\n",
        "labelencoder=LabelEncoder()\n",
        "df3=df1.apply(labelencoder.fit_transform)\n",
        "print(df3)#the data will be encoded in zero to total no of entries-1"
      ],
      "metadata": {
        "id": "fNwgqKkTv_cT"
      },
      "execution_count": null,
      "outputs": []
    },
    {
      "cell_type": "code",
      "source": [
        "from sklearn.preprocessing import OneHotEncoder\n",
        "onehotencoder=OneHotEncoder()\n",
        "df4=onehotencoder.fit_transform(df1).toarray()"
      ],
      "metadata": {
        "id": "75EzGxBkwqXH"
      },
      "execution_count": null,
      "outputs": []
    },
    {
      "cell_type": "code",
      "source": [
        "import numpy as np\n",
        "from sklearn import preprocessing\n",
        "data=np.array([[-100.3],[27.5],[0],[-200.9],[1000]])\n",
        "print(data)"
      ],
      "metadata": {
        "id": "hUMjTOYfxmbu"
      },
      "execution_count": null,
      "outputs": []
    },
    {
      "cell_type": "code",
      "source": [
        "minmax=preprocessing.MinMaxScaler(feature_range=(2,3))\n",
        "scale=minmax.fit_transform(data)\n",
        "print(scale)"
      ],
      "metadata": {
        "id": "HD8Kzdpjyki_"
      },
      "execution_count": null,
      "outputs": []
    },
    {
      "cell_type": "code",
      "source": [
        "robust_scale=preprocessing.RobustScaler()\n",
        "scale_1=robust_scale.fit_transform(data)\n",
        "print(scale_1)"
      ],
      "metadata": {
        "id": "zeQXgsx6ytZ1"
      },
      "execution_count": null,
      "outputs": []
    },
    {
      "cell_type": "code",
      "source": [
        "data_1=np.array([[5.1,3.5,1.4,5.5],\n",
        "                [4.6,2.4,3.4,5.6],\n",
        "                [3.4,5.6,7.5,3.5]])\n",
        "print(data_1)"
      ],
      "metadata": {
        "id": "HQXRLUPKzOSR"
      },
      "execution_count": null,
      "outputs": []
    },
    {
      "cell_type": "code",
      "source": [
        "normalize=preprocessing.normalize(data_1)\n",
        "print(normalize)"
      ],
      "metadata": {
        "id": "DuC6ilGef0if"
      },
      "execution_count": null,
      "outputs": []
    },
    {
      "cell_type": "code",
      "source": [
        "import pandas as pd\n",
        "import numpy as np\n",
        "import matplotlib.pyplot as plt\n",
        "import seaborn as sns"
      ],
      "metadata": {
        "id": "TAsdzw2xwPpG"
      },
      "execution_count": null,
      "outputs": []
    },
    {
      "cell_type": "code",
      "source": [
        "data=pd.read_csv(\"/content/cereal.csv\")\n",
        "data.head()"
      ],
      "metadata": {
        "id": "Dc8D2LsXwa9E"
      },
      "execution_count": null,
      "outputs": []
    },
    {
      "cell_type": "code",
      "source": [
        "data.info()"
      ],
      "metadata": {
        "id": "rimrXb10wtIN"
      },
      "execution_count": null,
      "outputs": []
    },
    {
      "cell_type": "code",
      "source": [
        "data.describe()"
      ],
      "metadata": {
        "id": "ZtD6LjAjwvOQ"
      },
      "execution_count": null,
      "outputs": []
    },
    {
      "cell_type": "code",
      "source": [
        "data.isnull().sum()"
      ],
      "metadata": {
        "id": "a1TvtM0JwxlP"
      },
      "execution_count": null,
      "outputs": []
    },
    {
      "cell_type": "code",
      "source": [
        "x=data[[\"calories\",\"protein\"]]\n",
        "x.head(10)\n"
      ],
      "metadata": {
        "id": "FOVMKcUXw05I"
      },
      "execution_count": null,
      "outputs": []
    },
    {
      "cell_type": "code",
      "source": [
        "y=data[\"rating\"]\n",
        "y.head(10)"
      ],
      "metadata": {
        "id": "mqzeGYANxZH8"
      },
      "execution_count": null,
      "outputs": []
    },
    {
      "cell_type": "code",
      "source": [
        "plt.scatter(data[\"calories\"],data[\"rating\"],marker=\"*\",color=\"red\")\n",
        "plt.xlabel(\"calories\")\n",
        "plt.ylabel(\"rating\")\n",
        "plt.title(\"corelatin of calories and ratings\")\n",
        "plt.legend()\n",
        "plt.show()\n"
      ],
      "metadata": {
        "id": "GXBzqEUGxizk"
      },
      "execution_count": null,
      "outputs": []
    },
    {
      "cell_type": "code",
      "source": [
        "sns.scatterplot(x=\"calories\",y=\"rating\",data=data,marker=\"^\",hue=\"rating\").set(title=\"correlation of calories with rating\")\n",
        "plt.show()"
      ],
      "metadata": {
        "id": "8KAIGC6Mz1VE"
      },
      "execution_count": null,
      "outputs": []
    },
    {
      "cell_type": "code",
      "source": [
        "sns.scatterplot(x=\"calories\",y=\"protein\",data=data,marker=\"^\",hue=\"rating\").set(title=\"correlation of calories with rating\")\n",
        "plt.show()"
      ],
      "metadata": {
        "id": "HyzOl3da0wAZ"
      },
      "execution_count": null,
      "outputs": []
    },
    {
      "cell_type": "code",
      "source": [
        "x.shape"
      ],
      "metadata": {
        "id": "LJ319fYH0gOZ"
      },
      "execution_count": null,
      "outputs": []
    },
    {
      "cell_type": "code",
      "source": [
        "y.shape"
      ],
      "metadata": {
        "id": "FrdAa_-GztQZ"
      },
      "execution_count": null,
      "outputs": []
    },
    {
      "cell_type": "code",
      "source": [
        "from sklearn.model_selection import train_test_split"
      ],
      "metadata": {
        "id": "H7G9hkM51vQK"
      },
      "execution_count": null,
      "outputs": []
    },
    {
      "cell_type": "code",
      "source": [
        "x_train,x_test,y_train,y_test=train_test_split(x,y,test_size=0.2)"
      ],
      "metadata": {
        "id": "uF3Ob73I2AEE"
      },
      "execution_count": null,
      "outputs": []
    },
    {
      "cell_type": "code",
      "source": [
        "x_train.shape"
      ],
      "metadata": {
        "id": "I47hsNUM2hWh"
      },
      "execution_count": null,
      "outputs": []
    },
    {
      "cell_type": "code",
      "source": [
        "y_train.shape"
      ],
      "metadata": {
        "id": "3jMPlo_m2oKf"
      },
      "execution_count": null,
      "outputs": []
    },
    {
      "cell_type": "code",
      "source": [
        "x_test.shape"
      ],
      "metadata": {
        "id": "Yb76zDCS2sSu"
      },
      "execution_count": null,
      "outputs": []
    },
    {
      "cell_type": "code",
      "source": [
        "y_test.shape"
      ],
      "metadata": {
        "id": "fq9iZJfH2uvl"
      },
      "execution_count": null,
      "outputs": []
    }
  ]
}